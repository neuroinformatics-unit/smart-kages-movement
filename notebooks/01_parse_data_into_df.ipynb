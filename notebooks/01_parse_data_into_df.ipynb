{
 "cells": [
  {
   "cell_type": "markdown",
   "metadata": {},
   "source": [
    "# Parse data structure into a pandas DataFrame\n",
    "Parse data paths from the Smart-Kages folder structure and store them in a pandas DataFrames.\n",
    "\n",
    "Also, load time adjustments to help estimate start and end times for each 1-hour segment."
   ]
  },
  {
   "cell_type": "code",
   "execution_count": 2,
   "metadata": {},
   "outputs": [],
   "source": [
    "from pathlib import Path\n",
    "\n",
    "import matplotlib.pyplot as plt\n",
    "import numpy as np\n",
    "import pandas as pd\n",
    "import sleap_io as sio\n",
    "\n",
    "from smart_kages_movement.datetime import (\n",
    "    extract_datetimes,\n",
    "    extract_frame_timestamps,\n",
    "    find_segment_overlaps,\n",
    ")\n",
    "from smart_kages_movement.io import parse_data_into_df\n",
    "from smart_kages_movement.plots import show_first_frame_corner"
   ]
  },
  {
   "cell_type": "markdown",
   "metadata": {},
   "source": [
    "## Configuration\n",
    "Define some global variables and paths."
   ]
  },
  {
   "cell_type": "code",
   "execution_count": 3,
   "metadata": {},
   "outputs": [],
   "source": [
    "# Path to the data directory containing all kages.\n",
    "data_dir = Path.home() / \"Data\" / \"Smart-Kages\"\n",
    "assert data_dir.exists(), f\"Data directory {data_dir} does not exist.\"\n",
    "\n",
    "# Path for saving the processed data (in this case, a subfolder of 'data_dir').\n",
    "save_dir = data_dir / \"movement_analysis\"\n",
    "save_dir.mkdir(parents=True, exist_ok=True)"
   ]
  },
  {
   "cell_type": "markdown",
   "metadata": {},
   "source": [
    "## Aggregate segment paths into a single dataframe\n",
    "\n",
    "The data is stored per Smart-Kage, in folders names as `kageN`, e.g. `kage1`, `kage2`, etc.\n",
    "\n",
    "Each Smart-Kage folder contains:\n",
    "- daily videos are stored in `videos/YYYY/MM/DD/`, split into 1-hour segments. Each 1-hour segment is an `.mp4` file named `kageN_YYYYMMDD_HHMMSS.mp4`.\n",
    "- corresponding DeepLabCut (DLC) predictions are stored in `analysis/dlc_output/YYYY/MM/DD/`. Each 1-hour `.h5` file therein is prefixed with `kageN_YYYYMMDD_HHMMSS`.\n",
    "\n",
    "Let's parse the relevant parts of the data structure into a single dataframe."
   ]
  },
  {
   "cell_type": "code",
   "execution_count": 4,
   "metadata": {},
   "outputs": [
    {
     "name": "stdout",
     "output_type": "stream",
     "text": [
      "Found 2 kage directories:  kage14 kage17\n",
      "Found a total of 1576 .h5 pose files output by DLC.\n"
     ]
    },
    {
     "data": {
      "text/html": [
       "<div>\n",
       "<style scoped>\n",
       "    .dataframe tbody tr th:only-of-type {\n",
       "        vertical-align: middle;\n",
       "    }\n",
       "\n",
       "    .dataframe tbody tr th {\n",
       "        vertical-align: top;\n",
       "    }\n",
       "\n",
       "    .dataframe thead th {\n",
       "        text-align: right;\n",
       "    }\n",
       "</style>\n",
       "<table border=\"1\" class=\"dataframe\">\n",
       "  <thead>\n",
       "    <tr style=\"text-align: right;\">\n",
       "      <th></th>\n",
       "      <th></th>\n",
       "      <th></th>\n",
       "      <th>start_datetime</th>\n",
       "      <th>pose_file_path</th>\n",
       "      <th>video_file_path</th>\n",
       "    </tr>\n",
       "    <tr>\n",
       "      <th>kage</th>\n",
       "      <th>date</th>\n",
       "      <th>hour</th>\n",
       "      <th></th>\n",
       "      <th></th>\n",
       "      <th></th>\n",
       "    </tr>\n",
       "  </thead>\n",
       "  <tbody>\n",
       "    <tr>\n",
       "      <th rowspan=\"5\" valign=\"top\">kage14</th>\n",
       "      <th rowspan=\"5\" valign=\"top\">20240408</th>\n",
       "      <th>13</th>\n",
       "      <td>2024-04-08 13:55:36</td>\n",
       "      <td>/Users/nsirmpilatze/Data/Smart-Kages/kage14/an...</td>\n",
       "      <td>/Users/nsirmpilatze/Data/Smart-Kages/kage14/vi...</td>\n",
       "    </tr>\n",
       "    <tr>\n",
       "      <th>14</th>\n",
       "      <td>2024-04-08 14:00:04</td>\n",
       "      <td>/Users/nsirmpilatze/Data/Smart-Kages/kage14/an...</td>\n",
       "      <td>/Users/nsirmpilatze/Data/Smart-Kages/kage14/vi...</td>\n",
       "    </tr>\n",
       "    <tr>\n",
       "      <th>15</th>\n",
       "      <td>2024-04-08 15:00:02</td>\n",
       "      <td>/Users/nsirmpilatze/Data/Smart-Kages/kage14/an...</td>\n",
       "      <td>/Users/nsirmpilatze/Data/Smart-Kages/kage14/vi...</td>\n",
       "    </tr>\n",
       "    <tr>\n",
       "      <th>16</th>\n",
       "      <td>2024-04-08 16:00:02</td>\n",
       "      <td>/Users/nsirmpilatze/Data/Smart-Kages/kage14/an...</td>\n",
       "      <td>/Users/nsirmpilatze/Data/Smart-Kages/kage14/vi...</td>\n",
       "    </tr>\n",
       "    <tr>\n",
       "      <th>17</th>\n",
       "      <td>2024-04-08 17:00:02</td>\n",
       "      <td>/Users/nsirmpilatze/Data/Smart-Kages/kage14/an...</td>\n",
       "      <td>/Users/nsirmpilatze/Data/Smart-Kages/kage14/vi...</td>\n",
       "    </tr>\n",
       "  </tbody>\n",
       "</table>\n",
       "</div>"
      ],
      "text/plain": [
       "                          start_datetime  \\\n",
       "kage   date     hour                       \n",
       "kage14 20240408 13   2024-04-08 13:55:36   \n",
       "                14   2024-04-08 14:00:04   \n",
       "                15   2024-04-08 15:00:02   \n",
       "                16   2024-04-08 16:00:02   \n",
       "                17   2024-04-08 17:00:02   \n",
       "\n",
       "                                                         pose_file_path  \\\n",
       "kage   date     hour                                                      \n",
       "kage14 20240408 13    /Users/nsirmpilatze/Data/Smart-Kages/kage14/an...   \n",
       "                14    /Users/nsirmpilatze/Data/Smart-Kages/kage14/an...   \n",
       "                15    /Users/nsirmpilatze/Data/Smart-Kages/kage14/an...   \n",
       "                16    /Users/nsirmpilatze/Data/Smart-Kages/kage14/an...   \n",
       "                17    /Users/nsirmpilatze/Data/Smart-Kages/kage14/an...   \n",
       "\n",
       "                                                        video_file_path  \n",
       "kage   date     hour                                                     \n",
       "kage14 20240408 13    /Users/nsirmpilatze/Data/Smart-Kages/kage14/vi...  \n",
       "                14    /Users/nsirmpilatze/Data/Smart-Kages/kage14/vi...  \n",
       "                15    /Users/nsirmpilatze/Data/Smart-Kages/kage14/vi...  \n",
       "                16    /Users/nsirmpilatze/Data/Smart-Kages/kage14/vi...  \n",
       "                17    /Users/nsirmpilatze/Data/Smart-Kages/kage14/vi...  "
      ]
     },
     "execution_count": 4,
     "metadata": {},
     "output_type": "execute_result"
    }
   ],
   "source": [
    "df = parse_data_into_df(data_dir)\n",
    "df.head()"
   ]
  },
  {
   "cell_type": "markdown",
   "metadata": {},
   "source": [
    "## Add some video metadata\n",
    "We reach each video's `n_frames`, `height`, `width`, and `n_channels` from the video file itself, using `sleap-io`.\n",
    "\n",
    "These metadata are added as columns to the dataframe."
   ]
  },
  {
   "cell_type": "code",
   "execution_count": 5,
   "metadata": {},
   "outputs": [],
   "source": [
    "video_shapes = pd.DataFrame(\n",
    "    np.zeros((len(df), 4), dtype=int),\n",
    "    index=df.index,\n",
    "    columns=[\"n_frames\", \"height\", \"width\", \"n_channels\"],\n",
    ")\n",
    "\n",
    "for idx, row in df.iterrows():\n",
    "    video_path = row[\"video_file_path\"]\n",
    "    video = sio.load_video(video_path)  # Lazy-Load the video using sleap_io\n",
    "    # Extract video shape information\n",
    "    video_shapes.loc[idx, \"n_frames\"] = video.shape[0]\n",
    "    video_shapes.loc[idx, \"height\"] = video.shape[1]\n",
    "    video_shapes.loc[idx, \"width\"] = video.shape[2]\n",
    "    video_shapes.loc[idx, \"n_channels\"] = (\n",
    "        video.shape[3] if len(video.shape) > 3 else 1\n",
    "    )\n",
    "    video.close()  # Close the video to free resources\n",
    "\n",
    "# Concatenate the video shapes with the original DataFrame\n",
    "df = pd.concat([df, video_shapes], axis=1)"
   ]
  },
  {
   "cell_type": "markdown",
   "metadata": {},
   "source": [
    "Let's see if there are any videos where `n_channels` is not 3, which would indicate a non-RGB video."
   ]
  },
  {
   "cell_type": "code",
   "execution_count": 6,
   "metadata": {},
   "outputs": [
    {
     "name": "stdout",
     "output_type": "stream",
     "text": [
      "Founcd 0 non-RGB videos.\n"
     ]
    },
    {
     "data": {
      "text/html": [
       "<div>\n",
       "<style scoped>\n",
       "    .dataframe tbody tr th:only-of-type {\n",
       "        vertical-align: middle;\n",
       "    }\n",
       "\n",
       "    .dataframe tbody tr th {\n",
       "        vertical-align: top;\n",
       "    }\n",
       "\n",
       "    .dataframe thead th {\n",
       "        text-align: right;\n",
       "    }\n",
       "</style>\n",
       "<table border=\"1\" class=\"dataframe\">\n",
       "  <thead>\n",
       "    <tr style=\"text-align: right;\">\n",
       "      <th></th>\n",
       "      <th></th>\n",
       "      <th></th>\n",
       "      <th>start_datetime</th>\n",
       "      <th>pose_file_path</th>\n",
       "      <th>video_file_path</th>\n",
       "      <th>n_frames</th>\n",
       "      <th>height</th>\n",
       "      <th>width</th>\n",
       "      <th>n_channels</th>\n",
       "    </tr>\n",
       "    <tr>\n",
       "      <th>kage</th>\n",
       "      <th>date</th>\n",
       "      <th>hour</th>\n",
       "      <th></th>\n",
       "      <th></th>\n",
       "      <th></th>\n",
       "      <th></th>\n",
       "      <th></th>\n",
       "      <th></th>\n",
       "      <th></th>\n",
       "    </tr>\n",
       "  </thead>\n",
       "  <tbody>\n",
       "  </tbody>\n",
       "</table>\n",
       "</div>"
      ],
      "text/plain": [
       "Empty DataFrame\n",
       "Columns: [start_datetime, pose_file_path, video_file_path, n_frames, height, width, n_channels]\n",
       "Index: []"
      ]
     },
     "execution_count": 6,
     "metadata": {},
     "output_type": "execute_result"
    }
   ],
   "source": [
    "df_non_rgb = df[df[\"n_channels\"] != 3]\n",
    "print(f\"Founcd {len(df_non_rgb)} non-RGB videos.\")\n",
    "df_non_rgb.head(len(df_non_rgb))"
   ]
  },
  {
   "cell_type": "markdown",
   "metadata": {},
   "source": [
    "## Adjust datetimes for each segment\n",
    "Above, we derived the start datetime of each video from its filename.\n",
    "However, this is usually not the exact time when the video started recording.\n",
    "\n",
    "We can find the exact start time for each video, as well as the exact timestamps for each frame, by inspecting two sources:\n",
    "\n",
    "1. The `adjustments.txt` file. There is one per day, stored in `kageN/videos/YYYY/MM/DD/`, and contains one row per video file, formatted as `video_file:H,M,S`. For example, this could be `kage1_20240420_000002.mp4:0,0,6`. The hours, minutes, and seconds represent the offset relative to time `00:00:00` of that day. These values are extracted from the first video frame using computer vision. Negative, or otherwise impossible values indicate an error in this extraction process.\n",
    "\n",
    "2. The `corrected_timestamps.pkl` file. There is one per day, stored in `kageN/analysis/dlc_output/YYYY/MM/DD/`. This file contains a dictionary mapping each pose filename to an array of corrected timestamps, expressed in seconds since the start of the hour. The first element should match the offset in the `adjustments.txt` file, and the rest should be derived by adding the frame timestamps (extracted from the .mp4 file) to this offset.\n",
    "\n",
    "As a result of this process, the dataframe `df` will now have a `start_datetime` column with the exact start time of each video. Moreover, we will obtain a `frame_timestamps` dictionary, mapping each video segment, identified by a `(kage, date, hour)` tuple, to an array of timestamps expressed in seconds elapsed since the start of each video."
   ]
  },
  {
   "cell_type": "code",
   "execution_count": 7,
   "metadata": {},
   "outputs": [
    {
     "name": "stderr",
     "output_type": "stream",
     "text": [
      "/var/folders/w3/q74_bsm5379bzb0hkt1n4bzm0000gn/T/ipykernel_10770/2965125456.py:1: UserWarning: First timestamp for kage17_20240405_200103DLC_resnet101_v2Jan17shuffle2_580000.h5 does not match the adjustment for kage17_20240405_200103.mp4. Setting start_datetime to NaT.\n",
      "  df, frame_timestamps = extract_datetimes(df)\n",
      "/var/folders/w3/q74_bsm5379bzb0hkt1n4bzm0000gn/T/ipykernel_10770/2965125456.py:1: UserWarning: First timestamp for kage17_20240430_070002DLC_resnet101_v2Jan17shuffle2_580000.h5 does not match the adjustment for kage17_20240430_070002.mp4. Setting start_datetime to NaT.\n",
      "  df, frame_timestamps = extract_datetimes(df)\n"
     ]
    }
   ],
   "source": [
    "df, frame_timestamps = extract_datetimes(df)"
   ]
  },
  {
   "cell_type": "markdown",
   "metadata": {},
   "source": [
    "### Quality control 1: start datetime mismatches between `adjustments.txt` and `corrected_timestamps.pkl`\n",
    "Some warnings may have appeared during the adjustment, flagging invalid adjustments values or mismatches between the `adjustments.txt` and the `corrected_timestamps.pkl`. We have marked all such problematic segments as having a `start_datetime` of `NaT` (Not a Time) in the dataframe."
   ]
  },
  {
   "cell_type": "code",
   "execution_count": 8,
   "metadata": {},
   "outputs": [
    {
     "name": "stdout",
     "output_type": "stream",
     "text": [
      "Found 2 videos with invalid adjustments or mismatches between the adjustment and corrected_timestamps.pkl.\n"
     ]
    },
    {
     "data": {
      "text/html": [
       "<div>\n",
       "<style scoped>\n",
       "    .dataframe tbody tr th:only-of-type {\n",
       "        vertical-align: middle;\n",
       "    }\n",
       "\n",
       "    .dataframe tbody tr th {\n",
       "        vertical-align: top;\n",
       "    }\n",
       "\n",
       "    .dataframe thead th {\n",
       "        text-align: right;\n",
       "    }\n",
       "</style>\n",
       "<table border=\"1\" class=\"dataframe\">\n",
       "  <thead>\n",
       "    <tr style=\"text-align: right;\">\n",
       "      <th></th>\n",
       "      <th></th>\n",
       "      <th></th>\n",
       "      <th>start_datetime</th>\n",
       "    </tr>\n",
       "    <tr>\n",
       "      <th>kage</th>\n",
       "      <th>date</th>\n",
       "      <th>hour</th>\n",
       "      <th></th>\n",
       "    </tr>\n",
       "  </thead>\n",
       "  <tbody>\n",
       "    <tr>\n",
       "      <th rowspan=\"2\" valign=\"top\">kage17</th>\n",
       "      <th>20240405</th>\n",
       "      <th>20</th>\n",
       "      <td>NaT</td>\n",
       "    </tr>\n",
       "    <tr>\n",
       "      <th>20240430</th>\n",
       "      <th>07</th>\n",
       "      <td>NaT</td>\n",
       "    </tr>\n",
       "  </tbody>\n",
       "</table>\n",
       "</div>"
      ],
      "text/plain": [
       "                     start_datetime\n",
       "kage   date     hour               \n",
       "kage17 20240405 20              NaT\n",
       "       20240430 07              NaT"
      ]
     },
     "execution_count": 8,
     "metadata": {},
     "output_type": "execute_result"
    }
   ],
   "source": [
    "invalid_datetimes = df[df[\"start_datetime\"].isna()]\n",
    "if not invalid_datetimes.empty:\n",
    "    print(\n",
    "        f\"Found {len(invalid_datetimes)} videos with invalid adjustments\",\n",
    "        \"or mismatches between the adjustment and corrected_timestamps.pkl.\",\n",
    "    )\n",
    "else:\n",
    "    print(\"All videos have valid start_datetimes.\")\n",
    "\n",
    "invalid_datetimes[[\"start_datetime\"]]"
   ]
  },
  {
   "cell_type": "markdown",
   "metadata": {},
   "source": [
    "We can open the first frame of each problematic video and look at the timestamps burned into the top-left corner."
   ]
  },
  {
   "cell_type": "code",
   "execution_count": 9,
   "metadata": {},
   "outputs": [
    {
     "name": "stdout",
     "output_type": "stream",
     "text": [
      "('kage17', '20240405', '20')\n"
     ]
    },
    {
     "data": {
      "image/png": "[encoded data removed]",
      "text/plain": [
       "<Figure size 640x480 with 1 Axes>"
      ]
     },
     "metadata": {},
     "output_type": "display_data"
    },
    {
     "name": "stdout",
     "output_type": "stream",
     "text": [
      "('kage17', '20240430', '07')\n"
     ]
    },
    {
     "data": {
      "image/png": "[encoded data removed]",
      "text/plain": [
       "<Figure size 640x480 with 1 Axes>"
      ]
     },
     "metadata": {},
     "output_type": "display_data"
    }
   ],
   "source": [
    "for idx, row in invalid_datetimes.iterrows():\n",
    "    print(idx)\n",
    "    show_first_frame_corner(row[\"video_file_path\"])"
   ]
  },
  {
   "cell_type": "markdown",
   "metadata": {},
   "source": [
    "Below, we will manually enter the correct start datetimes for each problematic video,\n",
    "as a dictionary mapping `(kage, date, hour)` tuples to datetimes in the format `YYYY-MM-DD HH:MM:SS`.\n",
    "If there are no problematic videos, this dictionary can be empty."
   ]
  },
  {
   "cell_type": "code",
   "execution_count": 10,
   "metadata": {},
   "outputs": [],
   "source": [
    "manual_start_datetimes = {\n",
    "    (\"kage17\", \"20240405\", \"20\"): \"2024-04-05 20:01:07\",\n",
    "    (\"kage17\", \"20240430\", \"07\"): \"2024-04-30 07:00:06\",\n",
    "}\n",
    "\n",
    "for (kage, date, hour), start_datetime in manual_start_datetimes.items():\n",
    "    df.loc[(kage, date, hour), \"start_datetime\"] = pd.to_datetime(\n",
    "        start_datetime, format=\"%Y-%m-%d %H:%M:%S\"\n",
    "    )\n",
    "\n",
    "# All start datetimes should now be valid.\n",
    "assert df[\"start_datetime\"].notna().all(), \"Some start datetimes are still NaT\""
   ]
  },
  {
   "cell_type": "markdown",
   "metadata": {},
   "source": [
    "Now we can derive the precise datetime timestamps for each frame by adding the \n",
    "known `start_datetime` to the frame timestamps (which are in seconds elapsed).\n",
    "\n",
    "We can also derive the `end_datetime` for each video as the last timestamp.\n",
    "\n",
    "We also derive a `timestamps_datetime` dictionary, mapping each video segment, identified by a `(kage, date, hour)` tuple, to an array of precise datetime objects for each frame."
   ]
  },
  {
   "cell_type": "code",
   "execution_count": 11,
   "metadata": {},
   "outputs": [
    {
     "data": {
      "text/html": [
       "<div>\n",
       "<style scoped>\n",
       "    .dataframe tbody tr th:only-of-type {\n",
       "        vertical-align: middle;\n",
       "    }\n",
       "\n",
       "    .dataframe tbody tr th {\n",
       "        vertical-align: top;\n",
       "    }\n",
       "\n",
       "    .dataframe thead th {\n",
       "        text-align: right;\n",
       "    }\n",
       "</style>\n",
       "<table border=\"1\" class=\"dataframe\">\n",
       "  <thead>\n",
       "    <tr style=\"text-align: right;\">\n",
       "      <th></th>\n",
       "      <th></th>\n",
       "      <th></th>\n",
       "      <th>start_datetime</th>\n",
       "      <th>end_datetime</th>\n",
       "      <th>n_frames</th>\n",
       "      <th>n_channels</th>\n",
       "      <th>height</th>\n",
       "      <th>width</th>\n",
       "      <th>pose_file_path</th>\n",
       "      <th>video_file_path</th>\n",
       "    </tr>\n",
       "    <tr>\n",
       "      <th>kage</th>\n",
       "      <th>date</th>\n",
       "      <th>hour</th>\n",
       "      <th></th>\n",
       "      <th></th>\n",
       "      <th></th>\n",
       "      <th></th>\n",
       "      <th></th>\n",
       "      <th></th>\n",
       "      <th></th>\n",
       "      <th></th>\n",
       "    </tr>\n",
       "  </thead>\n",
       "  <tbody>\n",
       "    <tr>\n",
       "      <th rowspan=\"5\" valign=\"top\">kage14</th>\n",
       "      <th rowspan=\"5\" valign=\"top\">20240408</th>\n",
       "      <th>13</th>\n",
       "      <td>2024-04-08 13:55:40</td>\n",
       "      <td>2024-04-08 13:59:59.503057658</td>\n",
       "      <td>521</td>\n",
       "      <td>3</td>\n",
       "      <td>376</td>\n",
       "      <td>500</td>\n",
       "      <td>/Users/nsirmpilatze/Data/Smart-Kages/kage14/an...</td>\n",
       "      <td>/Users/nsirmpilatze/Data/Smart-Kages/kage14/vi...</td>\n",
       "    </tr>\n",
       "    <tr>\n",
       "      <th>14</th>\n",
       "      <td>2024-04-08 14:00:09</td>\n",
       "      <td>2024-04-08 15:00:00.500764980</td>\n",
       "      <td>7181</td>\n",
       "      <td>3</td>\n",
       "      <td>376</td>\n",
       "      <td>500</td>\n",
       "      <td>/Users/nsirmpilatze/Data/Smart-Kages/kage14/an...</td>\n",
       "      <td>/Users/nsirmpilatze/Data/Smart-Kages/kage14/vi...</td>\n",
       "    </tr>\n",
       "    <tr>\n",
       "      <th>15</th>\n",
       "      <td>2024-04-08 15:00:07</td>\n",
       "      <td>2024-04-08 16:00:00.491279213</td>\n",
       "      <td>7188</td>\n",
       "      <td>3</td>\n",
       "      <td>376</td>\n",
       "      <td>500</td>\n",
       "      <td>/Users/nsirmpilatze/Data/Smart-Kages/kage14/an...</td>\n",
       "      <td>/Users/nsirmpilatze/Data/Smart-Kages/kage14/vi...</td>\n",
       "    </tr>\n",
       "    <tr>\n",
       "      <th>16</th>\n",
       "      <td>2024-04-08 16:00:07</td>\n",
       "      <td>2024-04-08 17:00:00.499686865</td>\n",
       "      <td>7186</td>\n",
       "      <td>3</td>\n",
       "      <td>376</td>\n",
       "      <td>500</td>\n",
       "      <td>/Users/nsirmpilatze/Data/Smart-Kages/kage14/an...</td>\n",
       "      <td>/Users/nsirmpilatze/Data/Smart-Kages/kage14/vi...</td>\n",
       "    </tr>\n",
       "    <tr>\n",
       "      <th>17</th>\n",
       "      <td>2024-04-08 17:00:06</td>\n",
       "      <td>2024-04-08 17:59:59.494863536</td>\n",
       "      <td>7186</td>\n",
       "      <td>3</td>\n",
       "      <td>376</td>\n",
       "      <td>500</td>\n",
       "      <td>/Users/nsirmpilatze/Data/Smart-Kages/kage14/an...</td>\n",
       "      <td>/Users/nsirmpilatze/Data/Smart-Kages/kage14/vi...</td>\n",
       "    </tr>\n",
       "  </tbody>\n",
       "</table>\n",
       "</div>"
      ],
      "text/plain": [
       "                          start_datetime                  end_datetime  \\\n",
       "kage   date     hour                                                     \n",
       "kage14 20240408 13   2024-04-08 13:55:40 2024-04-08 13:59:59.503057658   \n",
       "                14   2024-04-08 14:00:09 2024-04-08 15:00:00.500764980   \n",
       "                15   2024-04-08 15:00:07 2024-04-08 16:00:00.491279213   \n",
       "                16   2024-04-08 16:00:07 2024-04-08 17:00:00.499686865   \n",
       "                17   2024-04-08 17:00:06 2024-04-08 17:59:59.494863536   \n",
       "\n",
       "                      n_frames  n_channels  height  width  \\\n",
       "kage   date     hour                                        \n",
       "kage14 20240408 13         521           3     376    500   \n",
       "                14        7181           3     376    500   \n",
       "                15        7188           3     376    500   \n",
       "                16        7186           3     376    500   \n",
       "                17        7186           3     376    500   \n",
       "\n",
       "                                                         pose_file_path  \\\n",
       "kage   date     hour                                                      \n",
       "kage14 20240408 13    /Users/nsirmpilatze/Data/Smart-Kages/kage14/an...   \n",
       "                14    /Users/nsirmpilatze/Data/Smart-Kages/kage14/an...   \n",
       "                15    /Users/nsirmpilatze/Data/Smart-Kages/kage14/an...   \n",
       "                16    /Users/nsirmpilatze/Data/Smart-Kages/kage14/an...   \n",
       "                17    /Users/nsirmpilatze/Data/Smart-Kages/kage14/an...   \n",
       "\n",
       "                                                        video_file_path  \n",
       "kage   date     hour                                                     \n",
       "kage14 20240408 13    /Users/nsirmpilatze/Data/Smart-Kages/kage14/vi...  \n",
       "                14    /Users/nsirmpilatze/Data/Smart-Kages/kage14/vi...  \n",
       "                15    /Users/nsirmpilatze/Data/Smart-Kages/kage14/vi...  \n",
       "                16    /Users/nsirmpilatze/Data/Smart-Kages/kage14/vi...  \n",
       "                17    /Users/nsirmpilatze/Data/Smart-Kages/kage14/vi...  "
      ]
     },
     "execution_count": 11,
     "metadata": {},
     "output_type": "execute_result"
    }
   ],
   "source": [
    "df[\"end_datetime\"] = df[\"start_datetime\"].copy()\n",
    "timestamps_datetime = {}\n",
    "for (kage, date, hour), seconds_elapsed in frame_timestamps.items():\n",
    "    start_datetime = df.loc[(kage, date, hour), \"start_datetime\"]\n",
    "    timedelta = pd.to_timedelta(seconds_elapsed, unit=\"s\")\n",
    "    datetime_stamps = start_datetime + timedelta\n",
    "    # Derive the end datetimes from the last timestamp of each video.\n",
    "    df.loc[(kage, date, hour), \"end_datetime\"] = datetime_stamps[-1]\n",
    "    timestamps_datetime[(kage, date, hour)] = datetime_stamps\n",
    "\n",
    "# Reorder columns for readability\n",
    "df = df[\n",
    "    [\n",
    "        \"start_datetime\",\n",
    "        \"end_datetime\",\n",
    "        \"n_frames\",\n",
    "        \"n_channels\",\n",
    "        \"height\",\n",
    "        \"width\",\n",
    "        \"pose_file_path\",\n",
    "        \"video_file_path\",\n",
    "    ]\n",
    "]\n",
    "df.head()"
   ]
  },
  {
   "cell_type": "markdown",
   "metadata": {},
   "source": [
    "### Quality control 2: Number of frames mismatch between video and timestamps\n",
    "Let's check if the number of frame timestamps in each segment matches the number of frames in the video.\n",
    "If some video frames are missing timestamps, we will extract them anew from the video file and fill the gaps with linear interpolation, if needed.\n",
    "If this process still results in a mismatch, we will raise an error. Finally, we will update the `frame_timestamps` and `timestamps_datetime` dictionaries as well as the `end_datetime` column in the dataframe with the new corrected timestamps."
   ]
  },
  {
   "cell_type": "code",
   "execution_count": 12,
   "metadata": {},
   "outputs": [
    {
     "name": "stdout",
     "output_type": "stream",
     "text": [
      "Mismatch for kage14 20240428 21: 7188 frame timestamps vs 7189 video frames.\n"
     ]
    },
    {
     "name": "stderr",
     "output_type": "stream",
     "text": [
      "/var/folders/w3/q74_bsm5379bzb0hkt1n4bzm0000gn/T/ipykernel_10770/2298045744.py:11: UserWarning: Video /Users/nsirmpilatze/Data/Smart-Kages/kage14/videos/2024/04/28/kage14_20240428_210002.mp4 has 1 missing timestamps. The following frames will be filled with linear interpolation: [7188]\n",
      "  new_seconds_elapsed = extract_frame_timestamps(\n"
     ]
    },
    {
     "name": "stdout",
     "output_type": "stream",
     "text": [
      "Mismatch for kage17 20240421 16: 7187 frame timestamps vs 7188 video frames.\n"
     ]
    },
    {
     "name": "stderr",
     "output_type": "stream",
     "text": [
      "/var/folders/w3/q74_bsm5379bzb0hkt1n4bzm0000gn/T/ipykernel_10770/2298045744.py:11: UserWarning: Video /Users/nsirmpilatze/Data/Smart-Kages/kage17/videos/2024/04/21/kage17_20240421_160003.mp4 has 1 missing timestamps. The following frames will be filled with linear interpolation: [7187]\n",
      "  new_seconds_elapsed = extract_frame_timestamps(\n"
     ]
    },
    {
     "name": "stdout",
     "output_type": "stream",
     "text": [
      "Mismatch for kage17 20240504 14: 7180 frame timestamps vs 7181 video frames.\n"
     ]
    },
    {
     "name": "stderr",
     "output_type": "stream",
     "text": [
      "/var/folders/w3/q74_bsm5379bzb0hkt1n4bzm0000gn/T/ipykernel_10770/2298045744.py:11: UserWarning: Video /Users/nsirmpilatze/Data/Smart-Kages/kage17/videos/2024/05/04/kage17_20240504_140002.mp4 has 1 missing timestamps. The following frames will be filled with linear interpolation: [7180]\n",
      "  new_seconds_elapsed = extract_frame_timestamps(\n"
     ]
    }
   ],
   "source": [
    "for (kage, date, hour), seconds_elapsed in frame_timestamps.items():\n",
    "    n_frames = df.loc[(kage, date, hour), \"n_frames\"]\n",
    "    if len(seconds_elapsed) != n_frames:\n",
    "        print(\n",
    "            f\"Mismatch for {kage} {date} {hour}: {len(seconds_elapsed)} \"\n",
    "            f\"frame timestamps vs {n_frames} video frames.\"\n",
    "        )\n",
    "\n",
    "        # Let's extract frame timestamps directly from the video\n",
    "        # and interpolate missing timestamps if needed.\n",
    "        new_seconds_elapsed = extract_frame_timestamps(\n",
    "            df.loc[(kage, date, hour), \"video_file_path\"],\n",
    "            expected_n_frames=n_frames,\n",
    "        )\n",
    "\n",
    "        # Check if the new timestamps now match the expected number of frames.\n",
    "        if len(new_seconds_elapsed) != n_frames:\n",
    "            raise ValueError(\n",
    "                f\"New timestamps length {len(new_seconds_elapsed)} still \"\n",
    "                f\"does not match expected {n_frames} frames.\"\n",
    "            )\n",
    "\n",
    "        # Update the timestamps with the new ones.\n",
    "        frame_timestamps[(kage, date, hour)] = new_seconds_elapsed\n",
    "        # Re-compute datetime stamps from the known start datetime.\n",
    "        start_datetime = df.loc[(kage, date, hour), \"start_datetime\"]\n",
    "        timedelta = pd.to_timedelta(new_seconds_elapsed, unit=\"s\")\n",
    "        datetime_stamps = start_datetime + timedelta\n",
    "        # Re-derive the end datetimes from the last timestamp of each video.\n",
    "        df.loc[(kage, date, hour), \"end_datetime\"] = datetime_stamps[-1]\n",
    "        timestamps_datetime[(kage, date, hour)] = datetime_stamps"
   ]
  },
  {
   "cell_type": "markdown",
   "metadata": {},
   "source": [
    "### Quality control 3: Overlapping segments\n",
    "Let's find out if there are any overlapping segments based on their `start_datetime` and `end_datetime`."
   ]
  },
  {
   "cell_type": "code",
   "execution_count": 13,
   "metadata": {},
   "outputs": [
    {
     "name": "stdout",
     "output_type": "stream",
     "text": [
      "No overlapping segments found.\n"
     ]
    }
   ],
   "source": [
    "overlaps = find_segment_overlaps(df)\n",
    "overlaps"
   ]
  },
  {
   "cell_type": "markdown",
   "metadata": {},
   "source": [
    "We suspect that overlaps might be due to incorrect adjustments for the videos mentioned in `segment_A`, i.e. the timestamps of the first frame being incorrectly read by the computer vision algorithm. We can confirm this and manually correct this, as we did above."
   ]
  },
  {
   "cell_type": "code",
   "execution_count": 14,
   "metadata": {},
   "outputs": [
    {
     "name": "stdout",
     "output_type": "stream",
     "text": [
      "No need for inspection, no overlaps found.\n",
      "You can skip the next cell.\n"
     ]
    }
   ],
   "source": [
    "if not overlaps:\n",
    "    print(\"No need for inspection, no overlaps found.\")\n",
    "    print(\"You can skip the next cell.\")\n",
    "else:\n",
    "    for _, row in overlaps.iterrows():\n",
    "        segment_A = row[\"segment_A\"]\n",
    "        video_path = df.loc[segment_A, \"video_file_path\"]\n",
    "        video = sio.load_video(video_path)\n",
    "        first_frame = video[0]  # Get the first frame\n",
    "        # matplotlib show the first frame\n",
    "        plt.imshow(first_frame[:20, :300])\n",
    "        plt.axis(\"off\")\n",
    "        print(segment_A)\n",
    "        plt.show()"
   ]
  },
  {
   "cell_type": "code",
   "execution_count": 15,
   "metadata": {},
   "outputs": [],
   "source": [
    "more_manual_start_datetimes = {\n",
    "    # (\"kage1\", \"20240426\", \"07\"): \"2024-04-26 07:00:06\",\n",
    "}\n",
    "\n",
    "for (kage, date, hour), start_datetime in more_manual_start_datetimes.items():\n",
    "    df.loc[(kage, date, hour), \"start_datetime\"] = pd.to_datetime(\n",
    "        start_datetime, format=\"%Y-%m-%d %H:%M:%S\"\n",
    "    )\n",
    "    start = pd.Timestamp(start_datetime)\n",
    "    timedelta = pd.to_timedelta(frame_timestamps[(kage, date, hour)], unit=\"s\")\n",
    "    timestamps_datetime[(kage, date, hour)] = start + timedelta\n",
    "    df.loc[(kage, date, hour), \"end_datetime\"] = timestamps_datetime[\n",
    "        (kage, date, hour)\n",
    "    ][-1]"
   ]
  },
  {
   "cell_type": "code",
   "execution_count": 16,
   "metadata": {},
   "outputs": [
    {
     "data": {
      "text/html": [
       "<div>\n",
       "<style scoped>\n",
       "    .dataframe tbody tr th:only-of-type {\n",
       "        vertical-align: middle;\n",
       "    }\n",
       "\n",
       "    .dataframe tbody tr th {\n",
       "        vertical-align: top;\n",
       "    }\n",
       "\n",
       "    .dataframe thead th {\n",
       "        text-align: right;\n",
       "    }\n",
       "</style>\n",
       "<table border=\"1\" class=\"dataframe\">\n",
       "  <thead>\n",
       "    <tr style=\"text-align: right;\">\n",
       "      <th></th>\n",
       "      <th></th>\n",
       "      <th></th>\n",
       "      <th>start_datetime</th>\n",
       "      <th>end_datetime</th>\n",
       "      <th>n_frames</th>\n",
       "      <th>n_channels</th>\n",
       "      <th>height</th>\n",
       "      <th>width</th>\n",
       "      <th>pose_file_path</th>\n",
       "      <th>video_file_path</th>\n",
       "    </tr>\n",
       "    <tr>\n",
       "      <th>kage</th>\n",
       "      <th>date</th>\n",
       "      <th>hour</th>\n",
       "      <th></th>\n",
       "      <th></th>\n",
       "      <th></th>\n",
       "      <th></th>\n",
       "      <th></th>\n",
       "      <th></th>\n",
       "      <th></th>\n",
       "      <th></th>\n",
       "    </tr>\n",
       "  </thead>\n",
       "  <tbody>\n",
       "    <tr>\n",
       "      <th rowspan=\"5\" valign=\"top\">kage14</th>\n",
       "      <th rowspan=\"5\" valign=\"top\">20240408</th>\n",
       "      <th>13</th>\n",
       "      <td>2024-04-08 13:55:40</td>\n",
       "      <td>2024-04-08 13:59:59.503057658</td>\n",
       "      <td>521</td>\n",
       "      <td>3</td>\n",
       "      <td>376</td>\n",
       "      <td>500</td>\n",
       "      <td>/Users/nsirmpilatze/Data/Smart-Kages/kage14/an...</td>\n",
       "      <td>/Users/nsirmpilatze/Data/Smart-Kages/kage14/vi...</td>\n",
       "    </tr>\n",
       "    <tr>\n",
       "      <th>14</th>\n",
       "      <td>2024-04-08 14:00:09</td>\n",
       "      <td>2024-04-08 15:00:00.500764980</td>\n",
       "      <td>7181</td>\n",
       "      <td>3</td>\n",
       "      <td>376</td>\n",
       "      <td>500</td>\n",
       "      <td>/Users/nsirmpilatze/Data/Smart-Kages/kage14/an...</td>\n",
       "      <td>/Users/nsirmpilatze/Data/Smart-Kages/kage14/vi...</td>\n",
       "    </tr>\n",
       "    <tr>\n",
       "      <th>15</th>\n",
       "      <td>2024-04-08 15:00:07</td>\n",
       "      <td>2024-04-08 16:00:00.491279213</td>\n",
       "      <td>7188</td>\n",
       "      <td>3</td>\n",
       "      <td>376</td>\n",
       "      <td>500</td>\n",
       "      <td>/Users/nsirmpilatze/Data/Smart-Kages/kage14/an...</td>\n",
       "      <td>/Users/nsirmpilatze/Data/Smart-Kages/kage14/vi...</td>\n",
       "    </tr>\n",
       "    <tr>\n",
       "      <th>16</th>\n",
       "      <td>2024-04-08 16:00:07</td>\n",
       "      <td>2024-04-08 17:00:00.499686865</td>\n",
       "      <td>7186</td>\n",
       "      <td>3</td>\n",
       "      <td>376</td>\n",
       "      <td>500</td>\n",
       "      <td>/Users/nsirmpilatze/Data/Smart-Kages/kage14/an...</td>\n",
       "      <td>/Users/nsirmpilatze/Data/Smart-Kages/kage14/vi...</td>\n",
       "    </tr>\n",
       "    <tr>\n",
       "      <th>17</th>\n",
       "      <td>2024-04-08 17:00:06</td>\n",
       "      <td>2024-04-08 17:59:59.494863536</td>\n",
       "      <td>7186</td>\n",
       "      <td>3</td>\n",
       "      <td>376</td>\n",
       "      <td>500</td>\n",
       "      <td>/Users/nsirmpilatze/Data/Smart-Kages/kage14/an...</td>\n",
       "      <td>/Users/nsirmpilatze/Data/Smart-Kages/kage14/vi...</td>\n",
       "    </tr>\n",
       "    <tr>\n",
       "      <th>...</th>\n",
       "      <th>...</th>\n",
       "      <th>...</th>\n",
       "      <td>...</td>\n",
       "      <td>...</td>\n",
       "      <td>...</td>\n",
       "      <td>...</td>\n",
       "      <td>...</td>\n",
       "      <td>...</td>\n",
       "      <td>...</td>\n",
       "      <td>...</td>\n",
       "    </tr>\n",
       "    <tr>\n",
       "      <th rowspan=\"5\" valign=\"top\">kage17</th>\n",
       "      <th rowspan=\"5\" valign=\"top\">20240510</th>\n",
       "      <th>03</th>\n",
       "      <td>2024-05-10 03:00:06</td>\n",
       "      <td>2024-05-10 03:59:59.503661051</td>\n",
       "      <td>7189</td>\n",
       "      <td>3</td>\n",
       "      <td>376</td>\n",
       "      <td>500</td>\n",
       "      <td>/Users/nsirmpilatze/Data/Smart-Kages/kage17/an...</td>\n",
       "      <td>/Users/nsirmpilatze/Data/Smart-Kages/kage17/vi...</td>\n",
       "    </tr>\n",
       "    <tr>\n",
       "      <th>04</th>\n",
       "      <td>2024-05-10 04:00:06</td>\n",
       "      <td>2024-05-10 04:59:59.502544206</td>\n",
       "      <td>7189</td>\n",
       "      <td>3</td>\n",
       "      <td>376</td>\n",
       "      <td>500</td>\n",
       "      <td>/Users/nsirmpilatze/Data/Smart-Kages/kage17/an...</td>\n",
       "      <td>/Users/nsirmpilatze/Data/Smart-Kages/kage17/vi...</td>\n",
       "    </tr>\n",
       "    <tr>\n",
       "      <th>05</th>\n",
       "      <td>2024-05-10 05:00:05</td>\n",
       "      <td>2024-05-10 05:59:59.492801542</td>\n",
       "      <td>7191</td>\n",
       "      <td>3</td>\n",
       "      <td>376</td>\n",
       "      <td>500</td>\n",
       "      <td>/Users/nsirmpilatze/Data/Smart-Kages/kage17/an...</td>\n",
       "      <td>/Users/nsirmpilatze/Data/Smart-Kages/kage17/vi...</td>\n",
       "    </tr>\n",
       "    <tr>\n",
       "      <th>06</th>\n",
       "      <td>2024-05-10 06:00:06</td>\n",
       "      <td>2024-05-10 06:59:59.514532538</td>\n",
       "      <td>7189</td>\n",
       "      <td>3</td>\n",
       "      <td>376</td>\n",
       "      <td>500</td>\n",
       "      <td>/Users/nsirmpilatze/Data/Smart-Kages/kage17/an...</td>\n",
       "      <td>/Users/nsirmpilatze/Data/Smart-Kages/kage17/vi...</td>\n",
       "    </tr>\n",
       "    <tr>\n",
       "      <th>07</th>\n",
       "      <td>2024-05-10 07:00:06</td>\n",
       "      <td>2024-05-10 07:59:59.509103294</td>\n",
       "      <td>7189</td>\n",
       "      <td>3</td>\n",
       "      <td>376</td>\n",
       "      <td>500</td>\n",
       "      <td>/Users/nsirmpilatze/Data/Smart-Kages/kage17/an...</td>\n",
       "      <td>/Users/nsirmpilatze/Data/Smart-Kages/kage17/vi...</td>\n",
       "    </tr>\n",
       "  </tbody>\n",
       "</table>\n",
       "<p>1576 rows × 8 columns</p>\n",
       "</div>"
      ],
      "text/plain": [
       "                          start_datetime                  end_datetime  \\\n",
       "kage   date     hour                                                     \n",
       "kage14 20240408 13   2024-04-08 13:55:40 2024-04-08 13:59:59.503057658   \n",
       "                14   2024-04-08 14:00:09 2024-04-08 15:00:00.500764980   \n",
       "                15   2024-04-08 15:00:07 2024-04-08 16:00:00.491279213   \n",
       "                16   2024-04-08 16:00:07 2024-04-08 17:00:00.499686865   \n",
       "                17   2024-04-08 17:00:06 2024-04-08 17:59:59.494863536   \n",
       "...                                  ...                           ...   \n",
       "kage17 20240510 03   2024-05-10 03:00:06 2024-05-10 03:59:59.503661051   \n",
       "                04   2024-05-10 04:00:06 2024-05-10 04:59:59.502544206   \n",
       "                05   2024-05-10 05:00:05 2024-05-10 05:59:59.492801542   \n",
       "                06   2024-05-10 06:00:06 2024-05-10 06:59:59.514532538   \n",
       "                07   2024-05-10 07:00:06 2024-05-10 07:59:59.509103294   \n",
       "\n",
       "                      n_frames  n_channels  height  width  \\\n",
       "kage   date     hour                                        \n",
       "kage14 20240408 13         521           3     376    500   \n",
       "                14        7181           3     376    500   \n",
       "                15        7188           3     376    500   \n",
       "                16        7186           3     376    500   \n",
       "                17        7186           3     376    500   \n",
       "...                        ...         ...     ...    ...   \n",
       "kage17 20240510 03        7189           3     376    500   \n",
       "                04        7189           3     376    500   \n",
       "                05        7191           3     376    500   \n",
       "                06        7189           3     376    500   \n",
       "                07        7189           3     376    500   \n",
       "\n",
       "                                                         pose_file_path  \\\n",
       "kage   date     hour                                                      \n",
       "kage14 20240408 13    /Users/nsirmpilatze/Data/Smart-Kages/kage14/an...   \n",
       "                14    /Users/nsirmpilatze/Data/Smart-Kages/kage14/an...   \n",
       "                15    /Users/nsirmpilatze/Data/Smart-Kages/kage14/an...   \n",
       "                16    /Users/nsirmpilatze/Data/Smart-Kages/kage14/an...   \n",
       "                17    /Users/nsirmpilatze/Data/Smart-Kages/kage14/an...   \n",
       "...                                                                 ...   \n",
       "kage17 20240510 03    /Users/nsirmpilatze/Data/Smart-Kages/kage17/an...   \n",
       "                04    /Users/nsirmpilatze/Data/Smart-Kages/kage17/an...   \n",
       "                05    /Users/nsirmpilatze/Data/Smart-Kages/kage17/an...   \n",
       "                06    /Users/nsirmpilatze/Data/Smart-Kages/kage17/an...   \n",
       "                07    /Users/nsirmpilatze/Data/Smart-Kages/kage17/an...   \n",
       "\n",
       "                                                        video_file_path  \n",
       "kage   date     hour                                                     \n",
       "kage14 20240408 13    /Users/nsirmpilatze/Data/Smart-Kages/kage14/vi...  \n",
       "                14    /Users/nsirmpilatze/Data/Smart-Kages/kage14/vi...  \n",
       "                15    /Users/nsirmpilatze/Data/Smart-Kages/kage14/vi...  \n",
       "                16    /Users/nsirmpilatze/Data/Smart-Kages/kage14/vi...  \n",
       "                17    /Users/nsirmpilatze/Data/Smart-Kages/kage14/vi...  \n",
       "...                                                                 ...  \n",
       "kage17 20240510 03    /Users/nsirmpilatze/Data/Smart-Kages/kage17/vi...  \n",
       "                04    /Users/nsirmpilatze/Data/Smart-Kages/kage17/vi...  \n",
       "                05    /Users/nsirmpilatze/Data/Smart-Kages/kage17/vi...  \n",
       "                06    /Users/nsirmpilatze/Data/Smart-Kages/kage17/vi...  \n",
       "                07    /Users/nsirmpilatze/Data/Smart-Kages/kage17/vi...  \n",
       "\n",
       "[1576 rows x 8 columns]"
      ]
     },
     "execution_count": 16,
     "metadata": {},
     "output_type": "execute_result"
    }
   ],
   "source": [
    "df"
   ]
  },
  {
   "cell_type": "markdown",
   "metadata": {},
   "source": [
    "### Quality control 4: Some final sanity checks\n",
    "Everything should be fine now, but let's run some sanity checks"
   ]
  },
  {
   "cell_type": "code",
   "execution_count": 17,
   "metadata": {},
   "outputs": [
    {
     "name": "stdout",
     "output_type": "stream",
     "text": [
      "No overlapping segments found.\n"
     ]
    }
   ],
   "source": [
    "# All start datetimes should now be valid.\n",
    "assert df[\"start_datetime\"].notna().all(), \"Some start datetimes are still NaT\"\n",
    "\n",
    "# Now, there should be no more overlaps\n",
    "overlaps = find_segment_overlaps(df)\n",
    "assert overlaps is None, (\n",
    "    \"There are still overlapping segments after manual adjustments.\"\n",
    ")\n",
    "\n",
    "# For each kage, the start_datetime values should be monotonic increasing\n",
    "for kage in df.index.get_level_values(\"kage\").unique():\n",
    "    kage_start_datetimes = df.loc[kage, \"start_datetime\"].values\n",
    "    assert np.all(np.diff(kage_start_datetimes) >= pd.Timedelta(0)), (\n",
    "        f\"Start datetimes for kage {kage} are not monotonic increasing.\"\n",
    "    )\n",
    "\n",
    "# For each row, the end_datetime should be greater than the start_datetime\n",
    "assert np.all(df[\"end_datetime\"] > df[\"start_datetime\"]), (\n",
    "    \"Some end datetimes are not greater than start datetimes.\"\n",
    ")"
   ]
  },
  {
   "cell_type": "markdown",
   "metadata": {},
   "source": [
    "## Save the timestamps to txt files\n",
    "We save the datetime timestamps to .txt files, with one file per 1-hour video segment.\n",
    "\n",
    "We also store the paths to these .txt files in the `df` dataframe, in a new column called `timestamps_path`."
   ]
  },
  {
   "cell_type": "code",
   "execution_count": 18,
   "metadata": {},
   "outputs": [
    {
     "name": "stdout",
     "output_type": "stream",
     "text": [
      "Timestamps saved to /Users/nsirmpilatze/Data/Smart-Kages/movement_analysis/timestamps.\n"
     ]
    }
   ],
   "source": [
    "timestamps_dir = save_dir / \"timestamps\"\n",
    "timestamps_dir.mkdir(parents=True, exist_ok=True)\n",
    "\n",
    "for (kage, date, hour), stamps in timestamps_datetime.items():\n",
    "    # Format timestamps as ISO strings and save\n",
    "    iso_stamps = stamps.strftime(\"%Y-%m-%dT%H:%M:%S.%f\")\n",
    "    timestamps_path = timestamps_dir / f\"{kage}_{date}_{hour}_timestamps.txt\"\n",
    "    np.savetxt(timestamps_path, iso_stamps, fmt=\"%s\")\n",
    "    # Also add the path to the saved timestamps to the DataFrame\n",
    "    df.loc[(kage, date, hour), \"timestamps_file_path\"] = timestamps_path\n",
    "\n",
    "print(f\"Timestamps saved to {timestamps_dir}.\")"
   ]
  },
  {
   "cell_type": "markdown",
   "metadata": {},
   "source": [
    "## Save the dataframes as CSV files\n",
    "Finally, we save the `df` dataframe to a CSV file for later use."
   ]
  },
  {
   "cell_type": "code",
   "execution_count": 19,
   "metadata": {},
   "outputs": [
    {
     "name": "stdout",
     "output_type": "stream",
     "text": [
      "Dataframe saved to /Users/nsirmpilatze/Data/Smart-Kages/movement_analysis.\n"
     ]
    }
   ],
   "source": [
    "df.to_csv(save_dir / \"all_segments.csv\")\n",
    "print(f\"Dataframe saved to {save_dir}.\")"
   ]
  },
  {
   "cell_type": "code",
   "execution_count": null,
   "metadata": {},
   "outputs": [],
   "source": []
  }
 ],
 "metadata": {
  "kernelspec": {
   "display_name": "smart-kages",
   "language": "python",
   "name": "python3"
  },
  "language_info": {
   "codemirror_mode": {
    "name": "ipython",
    "version": 3
   },
   "file_extension": ".py",
   "mimetype": "text/x-python",
   "name": "python",
   "nbconvert_exporter": "python",
   "pygments_lexer": "ipython3",
   "version": "3.13.3"
  }
 },
 "nbformat": 4,
 "nbformat_minor": 2
}
